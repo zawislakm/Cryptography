{
  "cells": [
    {
      "cell_type": "markdown",
      "metadata": {
        "id": "--U-zok9Nj9J"
      },
      "source": [
        "# Szyfry strumieniowe oparte o rejestry przesuwające z sprzeżeniem zwrotnym\n",
        "\n",
        "Rejestr przesuwający to każda konstrukcja składająca sie z uporządkowanych liniowo komórek pamięci, w której w takt pracy zegara zawartości komórek pamięci jest kopiowana synchronicznie do najbliższych sąsiadów. Rejestr przesuwający może być zrealizowany programowo (nawet na tablicy), ale najczęściej implementuje się je sprzętowo przy użyciu przerzutników (https://pl.wikipedia.org/wiki/Przerzutnik).\n",
        "Ponieważ w każdym cyklu zegara zawartości komórek przesuwają się w prawo (lub w lewo) to pierwsza komórka pamięci z lewej strony (lub z prawej) opróżnia się. Aby zapewnić poprawną pracę rejestru należy dostarczać do tej komórki odpowiednią zawartość. Można to robić przy pomocy sprzężenia zwrotnego czyli użycia kilku lub wszystkich komórek pamięci oraz pewnej funkcji do wyliczenia wartości wprowadzanej do rejestru.\n",
        "Rejestry ze sprzężeniem zwrotnym (_feedback shifting registers_) posiadają zdolność do produkowania chaotycznie wyglądających sekwencji danych."
      ]
    },
    {
      "cell_type": "markdown",
      "metadata": {
        "id": "3hoiH2WXNj9L"
      },
      "source": [
        "![fsr-stream.svg](attachment:fsr-stream.svg)"
      ]
    },
    {
      "cell_type": "markdown",
      "metadata": {
        "id": "EZRDCPTiNj9L"
      },
      "source": [
        "# Wprowadzenie\n",
        "\n",
        "Linear-feedback shift register (LFSR)  \n",
        "Rejestr przesuwający z liniowym sprzężeniem zwrotnym  \n",
        "Rejestr przesuwający, którego bit wejściowy jest funkcją liniową jego poprzedniego stanu  \n",
        "\n",
        "Na zdjęciach poniżej można zobaczyć jak dla 5bitowego rejestru xorowane są 4 wartości w nową wartość, która staje się bitem początkowym.\n",
        "\n",
        "![State1](assets/l1.png \"State 1\")\n",
        "![State2](assets/l2.png \"State 2\")\n",
        "\n",
        "Najważniejszym elementem w LFSR są wielomiany pierwotne oraz operacja XOR. Operacja XOR umożliwa rozkład zer i jedynek porównywalny do poziomu 50%. Wielomiany pierwotne zgodnie z algebrą będą generowały najdłuższe możliwe okresy przez co generowany strumień będzie bardziej losowy.\n",
        "\n",
        "Przykładowa inicjalizacja obiektu, z przejściem do kolejnego stanu.\n",
        "Należy zdefiniować stan początkowy dla rejestru oraz które wartości rejestru będą uwzględniane w sprzężeniu zwrotnym (_Feedback polynomial_)\n",
        "Przy inicjalizacji _Output bit_ i _Feedback bit_ nie istnieją dlatego mają wartość -1.\n",
        "\n",
        "Obiekt rejestru przechowuje wszystkie potrzebne informacje. Między innymi o bicie wychodzącym, bicie sprzężającym i aktualnym stanie rejestru.\n",
        "\n",
        "Instalacja biblioteki:\n",
        "```bash\n",
        "pip install pylfsr\n",
        "```\n"
      ]
    },
    {
      "cell_type": "code",
      "execution_count": null,
      "metadata": {
        "id": "t8cELLl5Nj9L"
      },
      "outputs": [],
      "source": [
        "!pip install pylfsr"
      ]
    },
    {
      "cell_type": "code",
      "execution_count": null,
      "metadata": {
        "id": "E5MuyT66Nj9M"
      },
      "outputs": [],
      "source": [
        "from pylfsr import LFSR\n",
        "\n",
        "state=[1,1,1,0,1]\n",
        "polynomial=[5,4,2,1]\n",
        "L=LFSR(initstate=state, fpoly=polynomial, verbose=True)\n",
        "\n",
        "L.info()\n",
        "L.next()\n",
        "\n",
        "\n",
        "L.runKCycle(10)\n",
        "L.runFullCycle()\n"
      ]
    },
    {
      "cell_type": "markdown",
      "metadata": {
        "id": "4BFZZGNnNj9M"
      },
      "source": [
        "\n",
        "Rejestr przesuwny stosuje się w celu genereowania pseudolosowych liczb.   \n",
        "\n",
        "Interesuje nas okresowość rejestrów. Najlepiej jak jest maksymalny.   \n",
        "Maksymalny okres dla danego rejestru to taki, gdzie stowarzyszony z nim wielomian jest wielomianem pierwotnym.   \n",
        "W odniesieniu do rejestru przesuwnego ten _wielomian_ wskazuje które bity należy ze sobą XOR-ować, żeby uzyskać _feedback bit_.  \n",
        "Nie ważne jaki będzie stan inicjalizacyjny bo wielomian pierowtny sprawi, że rejestr przejdzie przez wszystkie możliwe stany.  \n",
        "\n",
        "Ilość wielomianów pierwotnych dla zadanej długości można obliczyć z funkcji Eulera.   \n",
        "Lub wyciągnąć ją z odpowiedniej funkcji w bibliotece :)    \n",
        "Natomiast w internecie można znaleźć rozpisaną listę wielomianów pierwotnych do 32 potęgi.  \n",
        "[partow.net/programming/polynomials](https://www.partow.net/programming/polynomials/index.html)  \n",
        "\n",
        "Zgodnie z algebrą takie wielomiany gwarantują maksymalny okres przez co są najlepszym rozwiązaniem w rejestrach przesuwnych.  \n",
        "Funkcja _get_fpolyList()_ zawiera listę wielomianów.\n"
      ]
    },
    {
      "cell_type": "code",
      "execution_count": null,
      "metadata": {
        "id": "R3HdkUC5Nj9N"
      },
      "outputs": [],
      "source": [
        "# Lista wszystkich możliwych wielomianów pierwotnych do 32 potęgi\n",
        "\n",
        "fpolyDict = L.get_fpolyList()\n",
        "print(fpolyDict)\n",
        "\n",
        "# Lista możliwych wielomianów pierwotnych dla danej potęgi\n",
        "fpolys = L.get_fpolyList(m=7)\n",
        "print(fpolys)"
      ]
    },
    {
      "cell_type": "markdown",
      "metadata": {
        "id": "jVek6kHKNj9N"
      },
      "source": [
        "Jak działa rejestr przesuwny w akcji. Poniżej został zdefiniowany prosty 4 bitowy rejestr.  \n",
        "Każdy stan jest wypisywany razem z aktualnym bitem wyjściowym oraz zwrotnym. _Feedback bit_ wchodzi na początek rejestru a _Output bit_ opuszcza go.  \n",
        "Na sam koniec jest sprawdzona proporcja zer i jedynek. Jest bliska 50% - tak jak powinno być.  "
      ]
    },
    {
      "cell_type": "code",
      "execution_count": null,
      "metadata": {
        "id": "iBW3A2aONj9N"
      },
      "outputs": [],
      "source": [
        "state=[1,1,1,0]\n",
        "# Sprawdzenie wielomianów pierwotnych dla m=4\n",
        "# print(L.get_fpolyList(m=4)) # [4,1]\n",
        "\n",
        "polynomial=[4,1]\n",
        "L=LFSR(initstate=state, fpoly=polynomial, verbose=True)\n",
        "\n",
        "out=''\n",
        "\n",
        "print(f'feedback bit {L.feedbackbit} | ', end='')\n",
        "for _ in range(2**(len(state)) - 1):\n",
        "    L.next()\n",
        "    print(f'feedback bit {L.feedbackbit} | ', end='')\n",
        "    out += ''.join(str(L.outbit))\n",
        "\n",
        "print('S: ', L.state) # Powrót do pierwszego stanu po przejściu całego okresu\n",
        "\n",
        "print('output bits', out)\n",
        "\n",
        "print('number of 0s: ', out.count('0'))\n",
        "print('number of 1s: ', out.count('1'))"
      ]
    },
    {
      "cell_type": "markdown",
      "metadata": {
        "id": "9kzKnzNFNj9N"
      },
      "source": [
        "Narzędzie umożliwia również wizualizację każdego stanu.  Poniżej można wygenerować każdy stan i zobaczyc jak się zmieniał."
      ]
    },
    {
      "cell_type": "code",
      "execution_count": null,
      "metadata": {
        "scrolled": false,
        "id": "NAWi41kNNj9N"
      },
      "outputs": [],
      "source": [
        "L=LFSR(initstate=[1,1,1,0], fpoly=[4,1])\n",
        "\n",
        "for _ in range(15):\n",
        "  L.Viz(title='R1')\n",
        "  L.next()\n"
      ]
    },
    {
      "cell_type": "markdown",
      "metadata": {
        "id": "0wY7fy5DNj9O"
      },
      "source": [
        "Sposób wizualizacji każdego stanu proponowany w [dokumentacji](https://lfsr.readthedocs.io/en/latest/LFSR_Examples.html#example-7-1-visualize-3-bit-lfsr-at-each-step-with-default-counter-start-zero-true)"
      ]
    },
    {
      "cell_type": "code",
      "execution_count": null,
      "metadata": {
        "id": "qqD4clTVNj9O"
      },
      "outputs": [],
      "source": [
        "L=LFSR(initstate=[1,1,1,0], fpoly=[4,1])\n",
        "print('count \\t state \\t\\toutbit \\t seq')\n",
        "print('-'*50)\n",
        "for _ in range(15):\n",
        "    print(L.count,L.state,'',L.outbit,L.seq,sep='\\t')\n",
        "    L.next()\n",
        "print('-'*50)\n",
        "print('Output: ',L.seq)"
      ]
    },
    {
      "cell_type": "markdown",
      "metadata": {
        "id": "dCCsrfBsNj9O"
      },
      "source": [
        "## Testowanie wielomianów pierwotnych\n",
        "Funkcja _test_properties()_ sprawdzi dla danego stanu rejestru i zaproponowanego wielomianiu czy generuje on dobry losowy ciąg. Pierwszym, historycznym podejściem do sformułowania metod oceny PRNG były postulaty Golomba:\n",
        "1) W cyklu sN (sekwencja okresowa) liczba jedynek różni się od liczby zer o co najwyżej jeden\n",
        "2) W cyklu sN przynajmniej połowa podsekwencji złożona z tych samych bitów ma długość 1, 1/4 długość 2, 1/8 długość 3, itd. aż przekroczymy długość sekwencji; wśród tych podsekwecji powinno prawie tyle samo złożonych z zer i z jedynek\n",
        "3) Autokorelacja mierzy jest miarą podobieństwa między sekwencją $s$ i jej przesunięciem o $t$ pozycji. Funkcja autokorelacji powinna przyąć tylko dwie wartości: $N$, jeśli przesunięcie wynosi 0 oraz $K$, dla każdego innego przesunięcia, gdzie K jest pewną liczbą całkowitą.\n",
        "\n",
        "$C(t) = \\frac{1}{N} \\sum_{n=0}^{N-1} a_n \\oplus a_{n+t}$\n",
        "\n",
        "Sekwencję spełniającą postulaty Golomba nazywamy sekwencją $pn$ (ang, pseudo-noise\n",
        "seąuence). Postulaty Gołomba są przykładem warunków jaki musi spełnić sekwencja, aby została uznana za losową."
      ]
    },
    {
      "cell_type": "code",
      "execution_count": null,
      "metadata": {
        "id": "TwEzRinjNj9O"
      },
      "outputs": [],
      "source": [
        "L=LFSR(initstate=[1,1,1,0], fpoly=[4,2]) # Zły\n",
        "result  = L.test_properties(verbose=2)\n",
        "\n",
        "L=LFSR(initstate=[1,1,1,0], fpoly=[4,1]) # Dobry\n",
        "result  = L.test_properties(verbose=2)"
      ]
    },
    {
      "cell_type": "markdown",
      "metadata": {
        "id": "Y9KZSbkkNj9O"
      },
      "source": [
        "## Problem\n",
        "Zaimplementuj szyfry strumieniowy binarnie addytywny o długości okresu 1024. Przetestuj poprawność jego działania."
      ]
    },
    {
      "cell_type": "code",
      "execution_count": null,
      "metadata": {
        "id": "yYkp_jVGNj9O"
      },
      "outputs": [],
      "source": []
    },
    {
      "cell_type": "markdown",
      "metadata": {
        "id": "x5BqFVPENj9P"
      },
      "source": [
        "Źródła:\n",
        "1. https://lfsr.readthedocs.io/en/latest/LFSR_Examples.html#installation\n",
        "1. https://www.partow.net/programming/polynomials/index.html\n",
        "1. https://pl.wikipedia.org/wiki/Rejestr_przesuwaj%C4%85cy_z_liniowym_sprz%C4%99%C5%BCeniem_zwrotnym\n",
        "1. https://pl.wikipedia.org/wiki/Szyfr_strumieniowy"
      ]
    }
  ],
  "metadata": {
    "interpreter": {
      "hash": "eaadf733a7f226b835d8f19a6fa83e26b37ecef1797cc9ecff8910fb387ad8b4"
    },
    "kernelspec": {
      "display_name": "Python 3 (ipykernel)",
      "language": "python",
      "name": "python3"
    },
    "language_info": {
      "codemirror_mode": {
        "name": "ipython",
        "version": 3
      },
      "file_extension": ".py",
      "mimetype": "text/x-python",
      "name": "python",
      "nbconvert_exporter": "python",
      "pygments_lexer": "ipython3",
      "version": "3.10.6"
    },
    "vscode": {
      "interpreter": {
        "hash": "916dbcbb3f70747c44a77c7bcd40155683ae19c65e1c03b4aa3499c5328201f1"
      }
    },
    "colab": {
      "provenance": []
    }
  },
  "nbformat": 4,
  "nbformat_minor": 0
}