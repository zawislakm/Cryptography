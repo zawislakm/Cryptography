{
  "cells": [
    {
      "cell_type": "markdown",
      "id": "676bcec6",
      "metadata": {
        "id": "676bcec6"
      },
      "source": [
        "# Szyfrowanie homomorficzne"
      ]
    },
    {
      "cell_type": "code",
      "source": [
        "## Funkcje pomocnicze\n",
        "def gcd(a, b):\n",
        "    # GCD - Greatest Common Divisor, Największy wspólny dzielnik\n",
        "    while a != 0:\n",
        "        a, b = b % a, a\n",
        "    return b\n",
        "\n",
        "def lcm(a, b):\n",
        "    # LCM - Lowest Common Multiple, Najmniejsza wspólna wielokrotność\n",
        "    return a * b // gcd(a, b)\n",
        "\n",
        "def findModInverse(a, m):\n",
        "    # Zwraca liczbę x odwrotną do a ciele skończonym modulo m\n",
        "    # czyli (a*x) % m =1\n",
        "\n",
        "    if gcd(a, m) != 1:\n",
        "        return None #a i m muszą być względnie pierwsze aby istniał element odwrotny\n",
        "\n",
        "    # Rozszerzony algorytm Euklidesa\n",
        "    u1, u2, u3 = 1, 0, a\n",
        "    v1, v2, v3 = 0, 1, m\n",
        "    while v3 != 0:\n",
        "        q = u3 // v3 # // operator dzielenie całkowitoliczbowego\n",
        "        v1, v2, v3, u1, u2, u3 = (u1 - q * v1), (u2 - q * v2), (u3 - q * v3), v1, v2, v3\n",
        "    return u1 % m"
      ],
      "metadata": {
        "id": "U0qrDXB-tZ78"
      },
      "id": "U0qrDXB-tZ78",
      "execution_count": 1,
      "outputs": []
    },
    {
      "cell_type": "markdown",
      "id": "2230017e",
      "metadata": {
        "id": "2230017e"
      },
      "source": [
        "### Zadanie 1\n",
        "Dziełając wyłącznie na szyfrogramach RSA zaproponuj i zaimplementuje metodą fałszującą odszyfrowaną wiadomość tak by była ona liczbą podzielną przez 17.  "
      ]
    },
    {
      "cell_type": "code",
      "execution_count": 11,
      "id": "42e1ddf9",
      "metadata": {
        "id": "42e1ddf9",
        "colab": {
          "base_uri": "https://localhost:8080/"
        },
        "outputId": "ef8ccc82-caa5-4e89-9336-24ef09c35afd"
      },
      "outputs": [
        {
          "output_type": "stream",
          "name": "stdout",
          "text": [
            "1. Generujemy liczby p i q\n",
            "3. Obliczamy wykładnik prywatny: odwrotność e modulo (p-1)(q-1c)\n",
            "Klucz publiczny: (1995740651, 65537)\n",
            "Klucz prywatny: (1995740651, 601158737)\n",
            "Generujemy klucze publiczny i prywatny: (1995740651, 65537) (1995740651, 601158737)\n",
            "442 442\n"
          ]
        }
      ],
      "source": [
        "def generateRSAKeys(keySize):\n",
        "    print('1. Generujemy liczby p i q')\n",
        "    p=49109\n",
        "    q=40639\n",
        "    e = 65537\n",
        "    print('3. Obliczamy wykładnik prywatny: odwrotność e modulo (p-1)(q-1c)')\n",
        "    d=findModInverse(e, (p-1)*(q-1))\n",
        "    n= p*q\n",
        "    publicKey = (n, e)\n",
        "    privateKey = (n, d)\n",
        "    print('Klucz publiczny:', publicKey)\n",
        "    print('Klucz prywatny:', privateKey)\n",
        "    return (publicKey, privateKey)\n",
        "\n",
        "public, private = generateRSAKeys(16)\n",
        "\n",
        "print('Generujemy klucze publiczny i prywatny:', public, private)\n",
        "\n",
        "def encryptRSA(data_number, modulus, exp):\n",
        "    data_encrypted = pow(data_number, exp, modulus)\n",
        "    return data_encrypted\n",
        "\n",
        "def decryptRSA(data_number, modulus, exp):\n",
        "    data_decrypted = pow(data_number, exp, modulus)\n",
        "    return data_decrypted\n",
        "\n",
        "\n",
        "cip1 = encryptRSA(26, public[0], public[1])\n",
        "pla1 = decryptRSA(cip1, private[0], private[1])\n",
        "\n",
        "cip2 = encryptRSA(17, public[0], public[1])\n",
        "pla2 = decryptRSA(cip2, private[0], private[1])\n",
        "\n",
        "\n",
        "cip3 = cip1 * cip2\n",
        "pla3 = decryptRSA(cip3, private[0], private[1])\n",
        "print(pla3, 26 * 17)\n"
      ]
    },
    {
      "cell_type": "markdown",
      "id": "180e7830",
      "metadata": {
        "id": "180e7830"
      },
      "source": [
        "## Kryptosystem Pailliera\n",
        "\n",
        "W 1999 roku Pascal Paillier zaproponował kryptosystem, którego bezpieczeństwo oparte było o problem faktoryzacji liczb całkowitych i problem logarytmu dyskretnego.\n",
        "\n",
        "\n",
        "#### Generowanie kluczy (wersja podstawowa)\n",
        "\n",
        "1. Wybierz losowo dwie duże liczby pierwsze $p$ i $q$ tak aby $gcd(pq, (p-1)(q-1)) = 1$.\n",
        "2. Oblicz $n = pq$\n",
        "3. Oblicz $\\lambda = lcm(p-1,q-1)$ ($lcm$ --- Least Common Multiple, Najmniejsza Wspólna Wielokrotność)\n",
        "4. Zdefiniuj funkcje $L(x) = \\frac{x-1}{n}$\n",
        "5. Wybierz losowo $g \\in Z^*_{n^2}$ (liczba całkowita w zakresie 1 do $n^2$)\n",
        "6. Oblicz odwrotność multiplikatywną $\\mu = L(g^\\lambda \\bmod n^2))^{-1} \\bmod n$. Jeśli $\\mu$ nie istnieje zacznij od nowa.\n",
        "\n",
        "Klucz publiczny ma postać: $pk = (n,g)$\n",
        "Klucz prywatny ma postać: $sk = (\\lambda, \\mu)$\n",
        "\n",
        "#### Generowanie kluczy wersja uproszczona\n",
        "Jeśli $p$ i $q$ są podobniej długości można użyć prostszego wariantu:\n",
        "1. $g = n+1$\n",
        "2. $\\lambda = \\phi(n)$\n",
        "3. $\\mu = \\phi(n)^{-1} \\bmod n$\n",
        "\n",
        "#### Szyfrowanie\n",
        "\n",
        "1. Tekstem jawnym jest liczba $m$ zakresu $0 \\le m < n$.\n",
        "\n",
        "2. Wybierz losową liczbę z zakresu $0 \\le r < n$ oraz względnie pierwszą z $n$\n",
        "\n",
        "3. Oblicz szyfrogram $c= g^m \\cdot r^n \\bmod n^2$\n",
        "\n",
        "#### Deszyfrowanie\n",
        "\n",
        "1. Szyfrogram musi być liczbą z zakresu $0 < c < n^2$\n",
        "2. Oblicz tekst jawny $m= L(c^\\lambda \\bmod n^2)\\cdot \\mu \\bmod n$\n",
        "\n",
        "### Homomorficzne własności schematu Pailliera\n",
        "\n",
        "1. Dodawanie dwóch liczb:\n",
        "$$D_{priv}(E_{pub}(m_1) \\cdot E_{pub}(m_2) \\bmod n^2)= m_1 + m_2 \\bmod n$$\n",
        "\n",
        "2. Mnożenie szyfrogramu przez liczbę:\n",
        "$$D_{priv}(E_{pub}(m_1)^{m_2} \\bmod n^2)= m_1 \\cdot m_2 \\bmod n$$\n",
        "\n",
        "### Zadanie 2\n",
        "Zaimplementuj szyfrowanie i deszyfrowanie Pailliera oraz funkcje umożliwiające homomorficzne operacja dodawania oraz mnożenia przez liczbę całkowitą. Wykaż poprawność operacji homomorficznych."
      ]
    },
    {
      "cell_type": "code",
      "source": [
        "def genPaillierKeys():\n",
        "    p = 49109\n",
        "    q = 40639\n",
        "    nt = p*q\n",
        "    gt = nt+1\n",
        "\n",
        "    lambdat = (p-1) * (q-1)\n",
        "    mut = pow(lambdat,-1,nt)\n",
        "    return nt, gt, lambdat, mut\n",
        "\n",
        "n, g, Lambda, Mu = genPaillierKeys()\n",
        "\n",
        "def encryptPaillier(m, n, g):\n",
        "  return pow(g,m,n*n) * pow(3,n,n*n)\n",
        "\n",
        "def decryptPaillier(c, Lambda, Mu, n):\n",
        "  l = (pow(c,Lambda,n*n)-1)//n\n",
        "  m = (l* Mu) % n\n",
        "  return m\n",
        "\n",
        "cip1 = encryptPaillier(13,n,g)\n",
        "pla1 = decryptPaillier(cip1, Lambda, Mu,n)\n",
        "print(pla1)\n",
        "\n",
        "cip2 = encryptPaillier(33,n,g)\n",
        "pla2 = decryptPaillier(cip2, Lambda, Mu,n)\n",
        "print(pla2)\n",
        "\n",
        "\n",
        "cip3 = cip1 * cip2\n",
        "pla3 = decryptPaillier(cip3, Lambda, Mu,n)\n",
        "print(pla3, 13 + 33)\n",
        "\n"
      ],
      "metadata": {
        "id": "3T5RXZweu0Pk",
        "colab": {
          "base_uri": "https://localhost:8080/"
        },
        "outputId": "7b6f4fae-fd6b-46a1-fa11-d9a2d8ae67ae"
      },
      "id": "3T5RXZweu0Pk",
      "execution_count": 28,
      "outputs": [
        {
          "output_type": "stream",
          "name": "stdout",
          "text": [
            "13\n",
            "33\n",
            "46 46\n"
          ]
        }
      ]
    },
    {
      "cell_type": "markdown",
      "source": [
        "## Szyfrowanie w Pełni Homomorficzne *Fully Homomorphic Encryption*\n",
        "Szyfrowanie w Pełni Homomorficzne umożliwia realizację wszystkicj operacji arytmetycznych czyli dodawania i mnożenia.\n",
        "\n",
        "Wykorzystaj bibliotekę Pyfhel w celu sprawdzenia możliwości realizacji operacji matematycznych pod osłoną szyfrowania homomorficznego.\n",
        "\n",
        "https://pyfhel.readthedocs.io/en/latest/"
      ],
      "metadata": {
        "id": "vBBb9mIk60p5"
      },
      "id": "vBBb9mIk60p5"
    },
    {
      "cell_type": "code",
      "execution_count": 29,
      "id": "f16848a2",
      "metadata": {
        "id": "f16848a2",
        "colab": {
          "base_uri": "https://localhost:8080/"
        },
        "outputId": "9ac78d6c-bf98-4d07-bc28-3538a17a71de"
      },
      "outputs": [
        {
          "output_type": "stream",
          "name": "stdout",
          "text": [
            "Requirement already satisfied: pyfhel in /usr/local/lib/python3.10/dist-packages (3.4.2)\n",
            "Requirement already satisfied: numpy>=1.21 in /usr/local/lib/python3.10/dist-packages (from pyfhel) (1.23.5)\n",
            "Suma = [125   0   0 ...   0   0   0]\n"
          ]
        }
      ],
      "source": [
        "!pip install pyfhel\n",
        "import numpy as np\n",
        "from Pyfhel import Pyfhel, PyPtxt, PyCtxt\n",
        "\n",
        "HE = Pyfhel()\n",
        "HE.contextGen(scheme='bfv', n=2**14, t_bits=20)\n",
        "HE.keyGen()\n",
        "\n",
        "int1 = np.array([127])\n",
        "int2 = np.array([-2])\n",
        "ciphertext1 = HE.encryptInt(int1)\n",
        "ciphertext2 = HE.encryptInt(int2)\n",
        "\n",
        "\n",
        "ciphertextSum = ciphertext1 + ciphertext2\n",
        "summ = HE.decryptInt(ciphertextSum)\n",
        "print(f\"Suma = {summ}\")"
      ]
    },
    {
      "cell_type": "code",
      "source": [
        "\n",
        "HE = Pyfhel()           # Creating empty Pyfhel object\n",
        "ckks_params = {\n",
        "    'scheme': 'CKKS',   # can also be 'ckks'\n",
        "    'n': 2**14,         # Polynomial modulus degree. For CKKS, n/2 values can be\n",
        "                        #  encoded in a single ciphertext.\n",
        "                        #  Typ. 2^D for D in [10, 15]\n",
        "    'scale': 2**30,     # All the encodings will use it for float->fixed point\n",
        "                        #  conversion: x_fix = round(x_float * scale)\n",
        "                        #  You can use this as default scale or use a different\n",
        "                        #  scale on each operation (set in HE.encryptFrac)\n",
        "    'qi_sizes': [60, 30, 30, 30, 60] # Number of bits of each prime in the chain.\n",
        "                        # Intermediate values should be  close to log2(scale)\n",
        "                        # for each operation, to have small rounding errors.\n",
        "}\n",
        "HE.contextGen(**ckks_params)  # Generate context for ckks scheme\n",
        "HE.keyGen()             # Key Generation: generates a pair of public/secret keys\n",
        "HE.rotateKeyGen()\n",
        "\n",
        "\n",
        "float1 = np.array([1.2])\n",
        "float2 = np.array([2.2])\n",
        "ciphertext1 = HE.encryptFrac(float1)\n",
        "ciphertext2 = HE.encryptFrac(float2)\n",
        "\n",
        "ciphertextSum = ciphertext1 + ciphertext2\n",
        "summ = HE.decryptFrac(ciphertextSum)\n",
        "print(f\"Suma = {summ}\")"
      ],
      "metadata": {
        "id": "5H5Eza4F9Tve",
        "colab": {
          "base_uri": "https://localhost:8080/"
        },
        "outputId": "72caa24a-681f-45a2-e2cc-46687e55c5cc"
      },
      "id": "5H5Eza4F9Tve",
      "execution_count": 30,
      "outputs": [
        {
          "output_type": "stream",
          "name": "stdout",
          "text": [
            "Suma = [ 3.40000013e+00  7.92893715e-07  1.31974816e-07 ...  2.16371807e-06\n",
            "  1.25236545e-07 -9.17861997e-08]\n"
          ]
        }
      ]
    },
    {
      "cell_type": "markdown",
      "source": [
        "## Zadanie 3\n",
        "Napisz program, który sumuje zawartość tablicy wypełnionej losowymi wartościa całkowitymi z przedziału od 0 do 100. Sumowanie ma być wykonane pod ochroną szyfrowania homomorficznego.\n"
      ],
      "metadata": {
        "id": "WOZyMvwZxZiP"
      },
      "id": "WOZyMvwZxZiP"
    },
    {
      "cell_type": "code",
      "source": [
        "import random, time\n",
        "\n",
        "random_array = [random.randint(0,100) for _ in range(6)]\n",
        "print(f\"Random array: {random_array}\")\n",
        "\n",
        "start_time = time.time()\n",
        "\n",
        "HE = Pyfhel()\n",
        "HE.contextGen(scheme='bfv', n=2**14, t_bits=20)\n",
        "HE.keyGen()\n",
        "\n",
        "\n",
        "ciphertextSum = 0\n",
        "for _,c in enumerate(random_array):\n",
        "    int1 = np.array([c])\n",
        "    ciphertextSum += HE.encryptInt(int1)\n",
        "\n",
        "summ = HE.decryptInt(ciphertextSum)\n",
        "\n",
        "\n",
        "end_time = time.time()\n",
        "print(f\"Calculation time: {end_time - start_time} ms\")\n",
        "print(f\"Found sum {summ[0]}\")\n"
      ],
      "metadata": {
        "colab": {
          "base_uri": "https://localhost:8080/"
        },
        "id": "vpBW9cBQxc3V",
        "outputId": "a1d4b0fa-22ce-4aff-dcee-932e272a79f8"
      },
      "id": "vpBW9cBQxc3V",
      "execution_count": 73,
      "outputs": [
        {
          "output_type": "stream",
          "name": "stdout",
          "text": [
            "Random array: [24, 45, 58, 74, 20, 19]\n",
            "Calculation time: 0.5229921340942383 ms\n",
            "Found sum 240\n"
          ]
        }
      ]
    },
    {
      "cell_type": "markdown",
      "source": [
        "## Zadanie 4\n",
        "Oceń wydajność operacji wykonywanych na zaszyfrowanych danych i porównaj z operacjami wykonywamy na wiadomościach jawnych."
      ],
      "metadata": {
        "id": "CGMW9FzyxeVy"
      },
      "id": "CGMW9FzyxeVy"
    },
    {
      "cell_type": "code",
      "source": [
        "start_time = time.time()\n",
        "\n",
        "summ = 0\n",
        "for _,c in enumerate(random_array):\n",
        "    summ += c\n",
        "\n",
        "end_time = time.time()\n",
        "print(f\"Calculation time: {end_time - start_time} ms\")\n",
        "print(f\"Found sum {summ}\")"
      ],
      "metadata": {
        "colab": {
          "base_uri": "https://localhost:8080/"
        },
        "id": "qwR-6y_LxiVr",
        "outputId": "d51ee0a9-cfde-45f7-e512-ed39302defcc"
      },
      "id": "qwR-6y_LxiVr",
      "execution_count": 74,
      "outputs": [
        {
          "output_type": "stream",
          "name": "stdout",
          "text": [
            "Calculation time: 0.00021886825561523438 ms\n",
            "Found sum 240\n"
          ]
        }
      ]
    },
    {
      "cell_type": "markdown",
      "source": [
        "## Zadanie 5\n",
        "Napisz program, który oblicza średnią arytmetyczną losowych wartości rzeczywistych z przedziału od 0,0 do 100.0. Obliczenie ma być wykonane pod ochroną szyfrowania homomorficznego."
      ],
      "metadata": {
        "id": "eJQMRwECxisA"
      },
      "id": "eJQMRwECxisA"
    },
    {
      "cell_type": "code",
      "source": [],
      "metadata": {
        "id": "QmdUv-caxpbT"
      },
      "id": "QmdUv-caxpbT",
      "execution_count": null,
      "outputs": []
    }
  ],
  "metadata": {
    "kernelspec": {
      "display_name": "Python 3 (ipykernel)",
      "language": "python",
      "name": "python3"
    },
    "language_info": {
      "codemirror_mode": {
        "name": "ipython",
        "version": 3
      },
      "file_extension": ".py",
      "mimetype": "text/x-python",
      "name": "python",
      "nbconvert_exporter": "python",
      "pygments_lexer": "ipython3",
      "version": "3.10.12"
    },
    "colab": {
      "provenance": []
    }
  },
  "nbformat": 4,
  "nbformat_minor": 5
}